{
 "cells": [
  {
   "cell_type": "code",
   "execution_count": 19,
   "metadata": {},
   "outputs": [],
   "source": [
    "import pandas as pd\n",
    "import yfinance as yf"
   ]
  },
  {
   "cell_type": "code",
   "execution_count": 12,
   "metadata": {},
   "outputs": [
    {
     "data": {
      "text/html": [
       "<div>\n",
       "<style scoped>\n",
       "    .dataframe tbody tr th:only-of-type {\n",
       "        vertical-align: middle;\n",
       "    }\n",
       "\n",
       "    .dataframe tbody tr th {\n",
       "        vertical-align: top;\n",
       "    }\n",
       "\n",
       "    .dataframe thead th {\n",
       "        text-align: right;\n",
       "    }\n",
       "</style>\n",
       "<table border=\"1\" class=\"dataframe\">\n",
       "  <thead>\n",
       "    <tr style=\"text-align: right;\">\n",
       "      <th></th>\n",
       "      <th>A</th>\n",
       "      <th>Agilent Technologies</th>\n",
       "    </tr>\n",
       "  </thead>\n",
       "  <tbody>\n",
       "    <tr>\n",
       "      <th>0</th>\n",
       "      <td>AA</td>\n",
       "      <td>Alcoa</td>\n",
       "    </tr>\n",
       "    <tr>\n",
       "      <th>1</th>\n",
       "      <td>AAPL</td>\n",
       "      <td>Apple Inc</td>\n",
       "    </tr>\n",
       "    <tr>\n",
       "      <th>2</th>\n",
       "      <td>ABBV</td>\n",
       "      <td>AbbVie</td>\n",
       "    </tr>\n",
       "    <tr>\n",
       "      <th>3</th>\n",
       "      <td>ABT</td>\n",
       "      <td>Abbott Laboratories</td>\n",
       "    </tr>\n",
       "    <tr>\n",
       "      <th>4</th>\n",
       "      <td>ACE</td>\n",
       "      <td>Chubb</td>\n",
       "    </tr>\n",
       "  </tbody>\n",
       "</table>\n",
       "</div>"
      ],
      "text/plain": [
       "      A Agilent Technologies\n",
       "0    AA                Alcoa\n",
       "1  AAPL            Apple Inc\n",
       "2  ABBV               AbbVie\n",
       "3   ABT  Abbott Laboratories\n",
       "4   ACE                Chubb"
      ]
     },
     "execution_count": 12,
     "metadata": {},
     "output_type": "execute_result"
    }
   ],
   "source": [
    "#Note: if not working with windows replace cp1252 with uft-8\n",
    "tick_df = pd.read_csv(\"tick_lst/SP500_2014.csv\",usecols=[0, 1], encoding='cp1252') \n",
    "tick_df.dropna(inplace = True)\n",
    "tick_df.head()"
   ]
  },
  {
   "cell_type": "code",
   "execution_count": null,
   "metadata": {},
   "outputs": [],
   "source": [
    "tick_lst = list(tick_df.iloc[:,0])\n",
    "len_lst = list()\n",
    "\n",
    "for ticker in tick_lst:\n",
    "    data = yf.download(ticker, start=\"2014-01-01\", end=\"2024-12-31\")\n",
    "    data = data.droplevel('Ticker', axis=1)\n",
    "    data[\"Ticker\"]=ticker\n",
    "    len_lst.append([ticker,len(data)])\n",
    "    data.to_csv(f\"./tick_data/{ticker}.csv\")\n",
    "    del data\n"
   ]
  },
  {
   "cell_type": "code",
   "execution_count": 46,
   "metadata": {},
   "outputs": [
    {
     "name": "stdout",
     "output_type": "stream",
     "text": [
      "Number of tickers to use in analysis:  383\n"
     ]
    }
   ],
   "source": [
    "#Report of howmany datapoints were collected for each tickers. Some tickers were delisted and did not have datapoints.\n",
    "#Those with less than 2767 datapoints were probably recycled tickers and should be eliminated. Total tickers remaining is 383.\n",
    "pd.DataFrame(len_lst, columns=[\"Ticker\", \"Datapoints\"]).to_csv(\"report.csv\")\n",
    "rep_df = pd.read_csv(\"report.csv\")\n",
    "repuse_df= rep_df[rep_df.Datapoints == 2767]\n",
    "print(\"Number of tickers to use in analysis: \", len(repuse_df))"
   ]
  }
 ],
 "metadata": {
  "kernelspec": {
   "display_name": "base",
   "language": "python",
   "name": "python3"
  },
  "language_info": {
   "codemirror_mode": {
    "name": "ipython",
    "version": 3
   },
   "file_extension": ".py",
   "mimetype": "text/x-python",
   "name": "python",
   "nbconvert_exporter": "python",
   "pygments_lexer": "ipython3",
   "version": "3.11.5"
  }
 },
 "nbformat": 4,
 "nbformat_minor": 2
}
